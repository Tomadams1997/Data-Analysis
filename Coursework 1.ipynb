{
 "cells": [
  {
   "cell_type": "markdown",
   "metadata": {},
   "source": [
    "# Data Analysis 2019/2020 - Coursework 1- Tom Adams- C1621568 \n",
    "***\n",
    "## Deadline: Thursday 31st October 2pm"
   ]
  },
  {
   "cell_type": "markdown",
   "metadata": {},
   "source": [
    "#### Tips"
   ]
  },
  {
   "cell_type": "markdown",
   "metadata": {},
   "source": [
    "This coursework assesses learning outcomes from Block A of the course."
   ]
  },
  {
   "cell_type": "markdown",
   "metadata": {},
   "source": [
    "These assessments are equivalent to an exam:\n",
    "- Submit your work via Turn-It-In on Learning Central. Note that you will need to upload your final notebook exported as a html file. **Don't forget to click `run all` before you export it**. You can constantly update this document until the deadline.\n",
    "- Please put your name as the filename of the Jupyter notebook.\n",
    "- Please also take note of the University’s policy on plagiarism, which is outlined in your student handbook."
   ]
  },
  {
   "cell_type": "markdown",
   "metadata": {},
   "source": [
    "Marks are awarded for \n",
    "- Ability to identify the correct statistical method with sound reasoning.\n",
    "- Evidence of knowledge of the assumptions made or infered from the question.\n",
    "- Application of the statistical method, including correct treatment of the given / inferred data.  \n",
    "- Critical explanations and interpretation of the results.\n",
    "- all working, coding, figures etc must be included and you will need to accompany this with a succinct and tidy report explaining what you did and why.\n",
    "- Full marks can only be awarded where there is proof that the student understands the statistics and the data set that they are being asked to explore. Code, figures and any mathematics carried out count as workings, and must be included in the report/Jupyter notebook to obtain the relevant marks.  \n",
    "\n",
    "- Don't worry about how your code looks - marks are not given for pretty code, but rather for the approach used in solving the problem, your reasoning, explanation and answer."
   ]
  },
  {
   "cell_type": "markdown",
   "metadata": {},
   "source": [
    "***\n",
    "## QUESTION 1\n",
    "***"
   ]
  },
  {
   "cell_type": "markdown",
   "metadata": {},
   "source": [
    "A student is taking three modules, and the probability that they pass any individual module depends on the fraction of lectures attended $f$ so that the probability of passing the module is 0.9$f$. \n",
    "\n",
    "- If the student attends all lectures, ($f =1$), calculate the probability that they\n",
    "will (i) pass all three modules, (ii) fail one module and pass the other two (iii) pass only one module,  (iv) pass no modules. \n",
    "\n",
    "- Show that the sum of these four probabilities is 1. \n",
    "- Calculate the four probabilities on the assumption that the student attends only\n",
    "half of the lectures.\n",
    "- What fraction of lectures must the student attend to have a 50% chance of\n",
    "passing all three modules? \n",
    "- Is this a realistic way to model the probability that the student will pass the\n",
    "modules?\n",
    "\n",
    "[10 marks]"
   ]
  },
  {
   "cell_type": "markdown",
   "metadata": {},
   "source": [
    "**Answer:**"
   ]
  },
  {
   "cell_type": "markdown",
   "metadata": {},
   "source": [
    "If all lectures are attended, the probability of passing is 0.9*f where f=1, therefore probability of passing is 0.9.\n",
    "\n",
    "Because of this the probability of failing the module is \n",
    "1-0.9=0.1"
   ]
  },
  {
   "cell_type": "code",
   "execution_count": 1,
   "metadata": {},
   "outputs": [
    {
     "name": "stdout",
     "output_type": "stream",
     "text": [
      "The probability of passing all 3 modules if all the lectures are attended is 0.729\n",
      "The probability of passing 2 modules and failing 1 modules if all lectures are attended is 0.243\n",
      "The probability of passing 1 module and failing 2 modules if all lectures are attended is 0.027\n",
      "The probability of passing no modules if all lectures are attended 0.001\n",
      "The sum of all of the above outcomes is 1.0\n"
     ]
    }
   ],
   "source": [
    "#i) pass all 3 modules\n",
    "P3=0.9*0.9*0.9\n",
    "P3=round(P3,3)\n",
    "print('The probability of passing all 3 modules if all the lectures are attended is',P3)\n",
    "#ii) fail one module and pass two modules\n",
    "P2=(0.9*0.1*0.9) + (0.9*0.9*0.1) + (0.1*0.9*0.9)\n",
    "P2=round(P2,3)\n",
    "print('The probability of passing 2 modules and failing 1 modules if all lectures are attended is',P2)\n",
    "#iii) pass 1 modules fail 2\n",
    "P1=(0.9*0.1*0.1)+(0.1*0.9*0.1)+(0.1*0.1*0.9)\n",
    "P1=round(P1,3)\n",
    "print('The probability of passing 1 module and failing 2 modules if all lectures are attended is', P1)\n",
    "#iv) pass no modules\n",
    "Pn=(0.1*0.1*0.1)\n",
    "Pn=round(Pn,3)\n",
    "print('The probability of passing no modules if all lectures are attended',Pn)\n",
    "\n",
    "#Show the sum of these probability is 1\n",
    "Sum=P3+P2+P1+Pn\n",
    "Sum=round(Sum,1)\n",
    "print('The sum of all of the above outcomes is',Sum)"
   ]
  },
  {
   "cell_type": "markdown",
   "metadata": {},
   "source": [
    "If the student only attends 50% of the lectures then f now is equal to 0.5\n",
    "\n",
    "Therefore, the probability of passing a module now becomes 0.9*0.5= 0.45\n",
    "\n",
    "Therefore, the probability of failing a modules now becomes 1-0.45=0.55"
   ]
  },
  {
   "cell_type": "code",
   "execution_count": 2,
   "metadata": {},
   "outputs": [
    {
     "name": "stdout",
     "output_type": "stream",
     "text": [
      "The probability of passing all 3 modules if all the lectures are attended is 0.091\n",
      "The probability of passing 2 modules and failing 1 modules if all lectures are attended is 0.334\n",
      "The probability of passing 1 module and failing 2 modules if all lectures are attended is 0.408\n",
      "The probability of passing no modules if all lectures are attended 0.166\n",
      "The sum of all of the above outcomes is 1.0\n"
     ]
    }
   ],
   "source": [
    "P3=.45*0.45*0.45\n",
    "P3=round(P3,3)\n",
    "print('The probability of passing all 3 modules if all the lectures are attended is',P3)\n",
    "#ii) fail one module and pass two modules\n",
    "P2=(0.45*0.55*0.45) + (0.45*0.55*0.45) + (0.55*0.45*0.45)\n",
    "P2=round(P2,3)\n",
    "print('The probability of passing 2 modules and failing 1 modules if all lectures are attended is',P2)\n",
    "#iii) pass 1 modules fail 2\n",
    "P1=(0.45*0.55*0.55)+(0.55*0.45*0.55)+(0.55*0.55*0.45)\n",
    "P1=round(P1,3)\n",
    "print('The probability of passing 1 module and failing 2 modules if all lectures are attended is', P1)\n",
    "#iv) pass no modules\n",
    "Pn=(0.55*0.55*0.55)\n",
    "Pn=round(Pn,3)\n",
    "print('The probability of passing no modules if all lectures are attended',Pn)\n",
    "Sum=P3+P2+P1+Pn\n",
    "Sum=round(Sum,1)\n",
    "print('The sum of all of the above outcomes is',Sum)\n"
   ]
  },
  {
   "cell_type": "markdown",
   "metadata": {},
   "source": [
    "What fraction of lectures must the student attend to have a 50% chance of passing all three modules?\n",
    "\n",
    "Passing all 3 is passing modules one (P1),passing module 2 (P2), passing module 3 (P3)\n",
    "\n",
    "Probability of passing is 50% and passing all 3 (P) is P1*P2*P3\n",
    "\n",
    "P1=P2=P3\n",
    "\n",
    "P=P1**3"
   ]
  },
  {
   "cell_type": "code",
   "execution_count": 3,
   "metadata": {},
   "outputs": [
    {
     "name": "stdout",
     "output_type": "stream",
     "text": [
      "The student needs to attend 0.88 ammount of lectures to have a 50% chance of passing all three lectures.\n",
      "This roughly equates to ~90% which is 9/10.\n",
      "Therefore the student needs to attend 9/10 of all lectures.\n",
      "Is this a realistic model?\n",
      "This is not a realistic model as the student could go to 100% of the first two modules which would allow\n",
      "them to go to less in the third module to maintain the statistic of passing 50% of the module.\n"
     ]
    }
   ],
   "source": [
    "from fractions import Fraction\n",
    "P=0.5\n",
    "P1=(0.5**(1./3.))/.9\n",
    "P1=round(P1,2)\n",
    "print('The student needs to attend',P1,'ammount of lectures to have a 50% chance of passing all three lectures.\\nThis roughly equates to ~90% which is 9/10.\\nTherefore the student needs to attend 9/10 of all lectures.')\n",
    "print('Is this a realistic model?')\n",
    "print('This is not a realistic model as the student could go to 100% of the first two modules which would allow\\nthem to go to less in the third module to maintain the statistic of passing 50% of the module.')"
   ]
  },
  {
   "cell_type": "markdown",
   "metadata": {},
   "source": [
    "**How I completed the Question**\n",
    "\n",
    "I layed the question out as a 'Tree Diagram' as there were only two outcomes for a modules, passing and failing.\n",
    "So I took the predefined function of passing which was 0.9f, where f was a factor weighted by attendence. \n",
    "Using this I could work out the probability of passing as a decimal, and minusing that from one gave the probability of failing."
   ]
  },
  {
   "cell_type": "markdown",
   "metadata": {},
   "source": [
    "***\n",
    "## QUESTION 2\n",
    "***"
   ]
  },
  {
   "cell_type": "markdown",
   "metadata": {},
   "source": [
    "A computer chip manufacturer suspects that roughly half of its latest batch of CPUs contains a flaw.  The accounts department are clearly concerned, and are trying to predict how the fault will affect the number of customers returning products. How many CPUs from the batch would they need to examine to know the probability that any given CPU is faulty to better than 2.5%?\n",
    "\n",
    "[15 marks]"
   ]
  },
  {
   "cell_type": "markdown",
   "metadata": {},
   "source": [
    "#### Answer:"
   ]
  },
  {
   "cell_type": "markdown",
   "metadata": {},
   "source": [
    "When picking up a CPU, it has a 50% chance of being either faulty or functioning. Through moddelling the whole data set as a binomial, the standard deviation and probability of a faulty CPU can be used to calculate the number of sampling required.\n",
    "To start I found the mean which is M=N*theta\n",
    "divided the standard deviation equation by the mean to get the coefficient of variation, then rearrange to find N.\n",
    "\n",
    "\n",
    "The Equation for the mean from a Binomial Distribution is: $m=N\\theta$\n",
    "\n",
    "Here, $N$ is the number of times a CPU is checked and $\\theta$ is the probability that it is faulty, $\\theta=0.5$ \n",
    "\n",
    "The Equation for Standard deviation, $Sd$, for a Binomial Distribution is: $Sd=\\sqrt{N\\theta(1-\\theta)}$\n",
    "\n",
    "Dividing the Standard deviation by the mean, to find the coefficient of variation,$\\mu$, which shows the dispersion of a probability distribution: $\\mu=\\frac{\\sqrt{N\\theta(1-\\theta)}}{N\\theta}$\n",
    "\n",
    "Re-arranged for $N$ \n",
    "\n",
    "$N=\\frac{1-\\theta}{\\theta\\mu^2}$\n",
    "\n",
    "Subbing in the values of $\\theta=0.5$ and $\\mu=0.025$\n",
    "\n",
    "$N=\\frac{1-0.5}{0.5(0.025^2)}$\n",
    "\n",
    "$N=1600$ samples.\n",
    "\n",
    "Therefore, 1600 CPU's will need to be checked from the batch to know if the batch is faulty to 2.5%."
   ]
  },
  {
   "cell_type": "markdown",
   "metadata": {},
   "source": [
    "****\n",
    "# QUESTION 3\n",
    "***"
   ]
  },
  {
   "cell_type": "markdown",
   "metadata": {},
   "source": [
    "A group researching cancer have previously found that the genetic marker D3 is a useful indication that a person will develop the more aggressive form of melanoma skin cancer, in that D3 is present in 65% of the aggressive cases. However the test is expensive.  A rival group claim that the marker M23 is more sensitive than D3, and works out considerably cheaper to test for. The rival research team manage to get DNA samples from 7 patients with the aggressive form of the disease, all of whom test positive for the genetic marker M23. Based on these results, is M23 a better marker for the disease than D3? \n",
    "\n",
    "Give full mathematical working for your reasoning, and show labeled plots of the underlying functions.    \n",
    "\n",
    "[20 marks]"
   ]
  },
  {
   "cell_type": "markdown",
   "metadata": {},
   "source": [
    "#### Answer:"
   ]
  },
  {
   "cell_type": "markdown",
   "metadata": {},
   "source": [
    "To solve this question I will create a **null hypothesis** and then test the probability of it occurrying, to either **accept or reject** the **Null Hypothesis**. The probability will be tested to a significance of **0.05 or 5%**.\n",
    "\n",
    "The null hypothesis: M23 is a worse marker for the Disease han D3\n",
    "\n",
    "The problem is solved using a Binomial distribution."
   ]
  },
  {
   "cell_type": "code",
   "execution_count": 4,
   "metadata": {},
   "outputs": [
    {
     "name": "stdout",
     "output_type": "stream",
     "text": [
      "The probability of M23 achieving 7 successes in 7 trials is a probability of 0.049 .\n"
     ]
    }
   ],
   "source": [
    "#Using a Binomial\n",
    "s=7 #M23 number of successful trials\n",
    "N=7 #M23 number of trials\n",
    "#prob\n",
    "theta=.65\n",
    "from scipy.stats import binom\n",
    "import math\n",
    "prob=binom.pmf(s,N,theta)\n",
    "prob=round(prob,3)\n",
    "print('The probability of M23 achieving 7 successes in 7 trials is a probability of',prob,'.')"
   ]
  },
  {
   "cell_type": "markdown",
   "metadata": {},
   "source": [
    "As the probability of this is <0.05, a probability of 0.049 is given, we can say out data set is statistically significant, and therefore can **reject the null hypothesis**. Increasing the number of trials and number of success, to say 10 successes in 10 trials will decrease the probability of it occurrying by chance, increasing its significance. "
   ]
  },
  {
   "cell_type": "code",
   "execution_count": 5,
   "metadata": {},
   "outputs": [
    {
     "name": "stdout",
     "output_type": "stream",
     "text": [
      "The accuracy for a probability of P=0.05 is: 0.65265\n"
     ]
    }
   ],
   "source": [
    "import numpy as np\n",
    "from scipy.stats import binom\n",
    "import math\n",
    "import matplotlib.pyplot as plt\n",
    "for i in np.linspace(0,1,1000):\n",
    "    P=binom.pmf(7,7,i)\n",
    "    if P >= 0.05:\n",
    "        accuracy=i\n",
    "        accuracy=round(accuracy,5)\n",
    "        print('The accuracy for a probability of P=0.05 is:',accuracy)\n",
    "        break"
   ]
  },
  {
   "cell_type": "markdown",
   "metadata": {},
   "source": [
    "We know that for 7 successes in 7 trials, there is a probability og 0.049, to find when the actuall accuracry of the M23 marker at 0.05, a loop through possible values from 0-1 is done, with an if statement to break when the probability of 0.05 is met.\n",
    "In doing this, its found that at a probability of 0.05, an accuracy of 65.3% is found. If the number of trials and number of successes were to increase, to say, 10 success in 10 trials, then the accuracy of the test will also increase, in this case, increasing to 0.742."
   ]
  },
  {
   "cell_type": "code",
   "execution_count": 6,
   "metadata": {},
   "outputs": [
    {
     "data": {
      "text/plain": [
       "<matplotlib.legend.Legend at 0x1c5780f8ba8>"
      ]
     },
     "execution_count": 6,
     "metadata": {},
     "output_type": "execute_result"
    },
    {
     "data": {
      "image/png": "[encoded data removed]",
      "text/plain": [
       "<Figure size 432x288 with 1 Axes>"
      ]
     },
     "metadata": {
      "needs_background": "light"
     },
     "output_type": "display_data"
    }
   ],
   "source": [
    "#plot data\n",
    "x=np.linspace(0,1,1000)\n",
    "y=binom.pmf(7,7,x)\n",
    "y1=np.linspace(0.05,0.05,100)\n",
    "x1=np.linspace(0,1,100)\n",
    "plt.figure(1)\n",
    "plt.plot(x,y,label='Binomial Distribution')\n",
    "plt.plot(x1,y1,'r-',label='P=0.05')\n",
    "plt.scatter(0.65,binom.pmf(7,7,0.65),color=\"k\", label='M23 marker')\n",
    "plt.grid()\n",
    "plt.xlabel('Marker Accuracy')\n",
    "plt.ylabel('Binomial distribution')\n",
    "plt.legend(loc='best')"
   ]
  },
  {
   "cell_type": "markdown",
   "metadata": {},
   "source": [
    "This plot visually shows the Binomial distribution of the marker test. A line at significance P=0.05 is drawn showing an intercept at an accuracy of ~0.653. Overall it can be said the M23 is a better marker for the disease based on these statistics as for a significance of 0.05, the accuracy is 65.3%, which is greater than D3's 65%."
   ]
  },
  {
   "cell_type": "markdown",
   "metadata": {},
   "source": [
    "***\n",
    "## Question 4\n",
    "***"
   ]
  },
  {
   "cell_type": "markdown",
   "metadata": {},
   "source": [
    "The state of Florida is thinking of relaxing its policy on alcohol sales, to allow supermarkets to sell hard liquor, since the police predict that this can reduce violence. After some extensive polling, they find that only 33% and 8% of Republican and Independent voters are, respectively, behind the change in the law, while 78% of the Democrat voters are in favour.  You are visiting the state, and ask a Police Officer what she thinks of the idea. She says she’s against the change to the law. What is the probability that she votes Democrat?\n",
    "\n",
    "You will need to quote any sources of information that you use to answer this question, particularly when finding out voting statistics.  You may also assume that ‘Independent’ covers everything that is not ‘Republican’ or ‘Democrat’. \n",
    "\n",
    "[25 marks]"
   ]
  },
  {
   "cell_type": "markdown",
   "metadata": {},
   "source": [
    "**Answer**"
   ]
  },
  {
   "cell_type": "markdown",
   "metadata": {},
   "source": [
    "33% of Republicans are for the new law, meaning 67% are against.\n",
    "\n",
    "8% of Independent voters are for the new law, meaning 92% are against.\n",
    "\n",
    "78% of Democrats are for the new law, meaning 22% are against.\n",
    "\n",
    "Treating Independent as containing non-voters too.\n",
    "\n",
    "Using the source it is found that as of 30th September 2019, the voting statistics are as followed[1].\n",
    "\n",
    "Democratic - 4,986,626\n",
    "\n",
    "Republican - 4,741,804\n",
    "\n",
    "Independent - 3,778,644\n",
    "\n",
    "Totsl registered voters - 13,507,074\n",
    "\n",
    "Total Population of Florida - 21,300,000\n",
    "\n",
    "[1]Dos.myflorida.com. (2019). Voter Registration - By County and Party - Division of Elections - Florida Department of State. [online] Available at: https://dos.myflorida.com/elections/data-statistics/voter-registration-statistics/voter-registration-monthly-reports/voter-registration-by-county-and-party/ [Accessed 30 Oct. 2019]."
   ]
  },
  {
   "cell_type": "markdown",
   "metadata": {},
   "source": [
    "Using Bayes theorem\n",
    "\n",
    "$ P (A|B) = \\dfrac{P(A \\cap B) }{P(B)} \\rightarrow \\dfrac{P(B|A)P(A)}{P(B|A)P(A)+P(B|A^c)P(A^c)}$ \n",
    "\n",
    "$ P (A|B) $ = Probability of A occurring given B has occurred.\n",
    "\n",
    "$ P (B|A) $ = $ {P(AnB)}/{P(A)} $\n",
    "\n",
    "Probability of B occurring given A has occurred.\n",
    "\n",
    "$ P(A) $ = Probability of A occurring.\n",
    "\n",
    "$ P(B|A^c) $ = Probability of B occurring given A not occurring.\n",
    "\n",
    "$ P(A^c) $ = Probability of A not occurring.\n",
    "\n"
   ]
  },
  {
   "cell_type": "markdown",
   "metadata": {},
   "source": [
    "Relating Bayes Theorem to the question.\n",
    "\n",
    "B = The Police Officer being Against the new law.\n",
    "\n",
    "A = The Police Officer being a Democrat."
   ]
  },
  {
   "cell_type": "code",
   "execution_count": 7,
   "metadata": {},
   "outputs": [
    {
     "name": "stdout",
     "output_type": "stream",
     "text": [
      "Pr,Total ammount of Republicans as a decimanl 0.35\n",
      "Pi,Total ammount of Independent as a decimal 0.28\n",
      "Pd,Total ammount of Democrats as a decimal 0.37\n",
      "Pa, The probability of asking a person and them being against the new law is 0.57\n",
      "P(B|A)= 0.22\n",
      "P(A) 0.37\n",
      "P(B|A^c)(A^c) 0.49\n",
      "The Probabilty of asking the Police officer and her being against the Law and being a Democrat is 14.25 %\n"
     ]
    }
   ],
   "source": [
    "#Probability of the Policer officer being against the law.\n",
    "TotR=4727674 # Total number of Republicans\n",
    "TotI=3778644 # Total number of Independent\n",
    "TotD=4969590 # Total number of Democrats\n",
    "Tot=13507074# Total number of People in Florida\n",
    "\n",
    "Pra=.67*TotR # Total ammount of Republicans against the new Law\n",
    "Pia=.92*TotI # Total ammount of Independent voters against the new Law\n",
    "Pda=.22*TotD # Total ammount of Democrats against the new Law\n",
    "\n",
    "PRa=.67 #Republicans against the law as a %\n",
    "PIa=.92 #Independents against the law as a %\n",
    "PDa=.22 #Democrats against the law as a %\n",
    "\n",
    "Pr=TotR/Tot\n",
    "Pr=round(Pr,2)\n",
    "print('Pr,Total ammount of Republicans as a decimanl', Pr)\n",
    "\n",
    "Pi=TotI/Tot\n",
    "Pi=round(Pi,2)\n",
    "print('Pi,Total ammount of Independent as a decimal', Pi)\n",
    "\n",
    "Pd=(TotD)/Tot \n",
    "Pd=round(Pd,2)\n",
    "print('Pd,Total ammount of Democrats as a decimal' ,Pd)\n",
    "\n",
    "Pa=(Pra+Pia+Pda) # Total amount of People against the new Law\n",
    "Pa=(Pra+Pia+Pda)/Tot # Percentage of people against the new Law\n",
    "Pa=round(Pa,2)\n",
    "print('Pa, The probability of asking a person and them being against the new law is', Pa)\n",
    "\n",
    "# Using Bayes Theorem \n",
    "#P(B|A)\n",
    "PBA=(1-.78)#probability being for the law given your a democrat\n",
    "PBA=round(PBA,2)\n",
    "print('P(B|A)=',PBA)\n",
    "#P(A)\n",
    "PA=Pd\n",
    "print('P(A)',PA)\n",
    "#P(B|A^c)(A^c)\n",
    "PBAc=(PRa*Pr)+(PIa*Pi) #(Probability republic against * probability republican)+( Probability independent against* probability independent)\n",
    "PBAc=round(PBAc,2)\n",
    "print('P(B|A^c)(A^c)',PBAc)\n",
    "\n",
    "#P(A|B)\n",
    "PAB=(PBA*PA)/((PBA*PA)+(PBAc))\n",
    "PAB=PAB*100\n",
    "PAB=round(PAB,2)\n",
    "print('The Probabilty of asking the Police officer and her being against the Law and being a Democrat is', PAB,'%')"
   ]
  },
  {
   "cell_type": "markdown",
   "metadata": {},
   "source": [
    "**How I completed this Question**\n",
    "\n",
    "To completed the question I used Bayes Theroem as the sample space was set to two mutually exclusive data sets. One being whether they are against or for the Law and the other being the Political party they favour.\n",
    "After sourcing the statistics for voting demographics I extrapolated the populations for each party that were against and for the Law change. Each parameter of Bayes Theorem was then calculated, to get a final percentage of **14.25%** for asking the Policer officer and her returning with her being Against the new Law and a Democrat."
   ]
  },
  {
   "cell_type": "markdown",
   "metadata": {},
   "source": [
    "***\n",
    "# Question 5\n",
    "***"
   ]
  },
  {
   "cell_type": "markdown",
   "metadata": {},
   "source": [
    "Ten new recruits for a basketball team are timed (in secs) in running the 100 meters and 1,500m races to determine how fast they can run. The following results were obtained,\n",
    "\n",
    "| distance | ||||||||||\n",
    "| - |- |-|-|-|-|-|-|-|-|\n",
    "| 100m:\t|\t12\t |11\t|13\t|14\t|12|\t15|\t12|\t16| 10 | 11|\n",
    "|1500m: |\t280|\t290|\t220|\t260|\t270|\t240|\t250|\t230| 280 | 260 | \n",
    "\n",
    "\n",
    "\n",
    "What trends do we see in the data above? Are they significant? \n",
    "\n",
    "Please create your **own statistical functions** when answering this question. Please include any sources you have used to answer this question.  \n",
    "\n",
    "[30 marks]\n",
    "\n",
    "\n"
   ]
  },
  {
   "cell_type": "markdown",
   "metadata": {},
   "source": [
    "#### Answer:"
   ]
  },
  {
   "cell_type": "markdown",
   "metadata": {},
   "source": [
    "Firstly, the data is plotted to visualise any trends within the data set, as well as to see if all arrays were filled in correctly. From visualising the data, it appears to look like there is a negative correlation between the two times. By fitting a first order polynomial (straight line) to the data set, the equation of the straight line can be calculated."
   ]
  },
  {
   "cell_type": "code",
   "execution_count": 8,
   "metadata": {},
   "outputs": [
    {
     "name": "stdout",
     "output_type": "stream",
     "text": [
      "The equation of the straight line of best fit is:  \n",
      "-8.58 x + 366.1\n"
     ]
    },
    {
     "data": {
      "image/png": "[encoded data removed]",
      "text/plain": [
       "<Figure size 432x288 with 1 Axes>"
      ]
     },
     "metadata": {
      "needs_background": "light"
     },
     "output_type": "display_data"
    }
   ],
   "source": [
    "#start off by plotting the data set\n",
    "#x array can be 100m\n",
    "#y array can be 1500m\n",
    "from pylab import*\n",
    "import numpy as np\n",
    "import matplotlib.pyplot as plt\n",
    "from scipy.stats import ks_2samp\n",
    "x=np.array([12,11,13,14,12,15,12,16,10,11])\n",
    "y=np.array([280,290,220,260,270,240,250,230,280,260])\n",
    "plt.figure(1)\n",
    "plt.scatter(x, y)\n",
    "plt.xlim(9,17)\n",
    "plt.ylim(210,300)\n",
    "plt.xlabel('100m times, (s)')\n",
    "plt.ylabel('1500m times, (s)')\n",
    "plt.grid()\n",
    "p_coeff = polyfit( x, y, 1 ) \n",
    "p = poly1d( p_coeff ) \n",
    "x = linspace( 9,17, 100) \n",
    "plt.plot( x, p(x), label='Best Fit Line' )\n",
    "plt.legend(loc='best')\n",
    "print('The equation of the straight line of best fit is:', p)"
   ]
  },
  {
   "cell_type": "markdown",
   "metadata": {},
   "source": [
    "The equation of the straightline, $y=-8.58x + 366.1$ reveals a negative gradient between the two data sets that suggest that those who are quicker at completing the 100m take a longer time to complete the 1500m and similarly those who are quicker at the 1500m are slower at the 100m.\n",
    "\n",
    "\n",
    "The mean for both two data sets is calculated to see the average times for each race. From this, the standard deviation can be calculated to see how far the data spreads from the mean. This can be used as the error of each result."
   ]
  },
  {
   "cell_type": "code",
   "execution_count": 9,
   "metadata": {},
   "outputs": [
    {
     "name": "stdout",
     "output_type": "stream",
     "text": [
      "The mean for 100m is 13.0 seconds and the mean for 1500m is 258.0 seconds.\n",
      "The standard deviation for 100m is 2.33 seconds and the standard deviation for 1500m is 21.82 seconds.\n",
      "The variance for 100m is 5.43 seconds and the variance for 1500m is 476.11 seconds.\n"
     ]
    }
   ],
   "source": [
    "#calculating the mean and standard deviation of both data sets.\n",
    "#as the data is a sample it has a degree of freedom of 1.\n",
    "meanx=sum(x)/len(x)\n",
    "meany=sum(y)/len(y)\n",
    "print('The mean for 100m is',meanx,'seconds and the mean for 1500m is',meany,'seconds.')\n",
    "xstd=np.sqrt((sum((x-meanx)**2))/len(x))\n",
    "xstd=round(xstd,2)\n",
    "ystd=np.sqrt((sum((y-meany)**2))/len(y))\n",
    "ystd=round(ystd,2)\n",
    "print('The standard deviation for 100m is',xstd,'seconds and the standard deviation for 1500m is',ystd,'seconds.')\n",
    "xvar=(xstd)**2\n",
    "yvar=(ystd)**2\n",
    "xvar=round(xvar,2)\n",
    "yvar=round(yvar,2)\n",
    "print('The variance for 100m is',xvar,'seconds and the variance for 1500m is',yvar,'seconds.')"
   ]
  },
  {
   "cell_type": "markdown",
   "metadata": {},
   "source": [
    "Sample Covariance can be used to measure the strength and direction of the data.\n",
    "\n",
    "$\\sigma_{xy}=\\frac{1}{N-1}\\Sigma(x-\\bar x)(y- \\bar y)$"
   ]
  },
  {
   "cell_type": "code",
   "execution_count": 10,
   "metadata": {},
   "outputs": [
    {
     "name": "stdout",
     "output_type": "stream",
     "text": [
      "The value of Covariance between 100m and 1500m is -46.33\n"
     ]
    }
   ],
   "source": [
    "#Sample Covariance\n",
    "x=np.array([12,11,13,14,12,15,12,16,10,11])\n",
    "y=np.array([280,290,220,260,270,240,250,230,280,260])\n",
    "sigxy=(1/(N-1))*(sum((x-meanx)*(y-meany)))\n",
    "sigxy=round(sigxy,2)\n",
    "print('The value of Covariance between 100m and 1500m is', sigxy)"
   ]
  },
  {
   "cell_type": "markdown",
   "metadata": {},
   "source": [
    "Covariance is a measure of how changes in one variable are associated with changes in a second variable. In this case, how scores in 100m are associated with scores in 1500m. A value of -30.89 suggests there is a monotomic relationship between the two variables. This can be seen from plotting the data above that as x increases, y decreases. "
   ]
  },
  {
   "cell_type": "markdown",
   "metadata": {},
   "source": [
    "To get a value of correlation between the two times of 100m and 1500m the Spearmans rank has been calculated. I have chosen to use the spearmans rank as the data set is monotomic. It's monotomic as, as x increases y decreases. Furthermore, its benefitial to use this method as the sample size is small, at only 10 scores for 100m and 1500m. Furthermore, Spearmans is better than Pearsons as it can account for outliers within the data sets.\n",
    "Due to the sample set having tied data points, the equation used for standard deviation is as follows: \n",
    "\n",
    "$Ps=\\frac {\\Sigma^N_{i=1} R(x_i) R(y_i) - N(N+1)^2/4}{\\sqrt{\\Sigma^N_{i=1}R(x_i)^2-N(N+1)^2/4}\\sqrt{\\Sigma^N_{i=1}R(y_i)^2-N(N+1)^2/4}}$\n",
    "\n",
    "where,\n",
    "\n",
    "$Ps$ is the Spearmans rank coefficient\n",
    "\n",
    "$R(x_i)$ is the ranked x data, (100m times)\n",
    "\n",
    "$R(y_i)$ is the ranked y data, (1500m times)\n",
    "\n",
    "$N$ is the sample size (10)"
   ]
  },
  {
   "cell_type": "code",
   "execution_count": 11,
   "metadata": {},
   "outputs": [
    {
     "name": "stdout",
     "output_type": "stream",
     "text": [
      "The value of Spearmans rank correlation between 100m times and 1500m times is: -0.74\n"
     ]
    }
   ],
   "source": [
    "from scipy.stats import rankdata\n",
    "import numpy as np\n",
    "from scipy.stats import rankdata\n",
    "x=np.array([12,11,13,14,12,15,12,16,10,11])\n",
    "y=np.array([280,290,220,260,270,240,250,230,280,260])\n",
    "rank_x=rankdata(x)\n",
    "rank_y=rankdata(y)\n",
    "N=len(x) \n",
    "Nterm=(N*(N+1)**2)/4\n",
    "top=(sum(rank_x*rank_y))-Nterm\n",
    "bottoml=((sum(rank_x**2))-Nterm)\n",
    "bottomr=((sum(rank_y**2))-Nterm)\n",
    "Spearmansrank=top/(np.sqrt(bottoml)*np.sqrt(bottomr))\n",
    "Spearmansrank=round(Spearmansrank,2)\n",
    "print('The value of Spearmans rank correlation between 100m times and 1500m times is:',Spearmansrank)"
   ]
  },
  {
   "cell_type": "markdown",
   "metadata": {},
   "source": [
    "The value for Spearmans rank, -0.74, shows a strong indirect relationship between 100m times and 1500m times for this data set.\n",
    "Through using a Spearmans rank table, the data can be tested to see if its significant. Typically a correlation for spearmans ranks between -0.7 and 0.7 is deemed to be insignificant. Our data sits at -0.74 which suggests there is a negative relationship between the two data sets. Using a table[1] the relationship for N=10 requires a Spearmans rank of 0.648 to be 0.05 signficant. As the data set sits at -0.74, it can be deemed that the significance is better than 0.05 and we can reject our null hypothesis. \n",
    "\n",
    "\n",
    "[1] Real-statistics.com. (2019). Spearman's Rho Table | Real Statistics Using Excel. [online] Available at: http://www.real-statistics.com/statistics-tables/spearmans-rho-table/ [Accessed 31 Oct. 2019]."
   ]
  },
  {
   "cell_type": "markdown",
   "metadata": {},
   "source": [
    "Another method of correlation testing is the Pearson r test. This is for linear data sets, which the data set for this question is. \n",
    "\n",
    "The correlation is calculated by:\n",
    "\n",
    "$PearsonR= \\frac{\\Sigma(x-\\bar x)(y-\\bar y)}{\\sqrt{\\Sigma(x-\\bar x)^2} \\sqrt{\\Sigma(y-\\bar y)^2}}$\n",
    "\n",
    "Where,\n",
    "\n",
    "$x$ and $y$ are the data sets, and $\\bar x$ and $\\bar y$ are there respective mean averages."
   ]
  },
  {
   "cell_type": "code",
   "execution_count": 12,
   "metadata": {},
   "outputs": [
    {
     "name": "stdout",
     "output_type": "stream",
     "text": [
      "The value for Pearson R correlation between 100m and 1500m is: -0.69\n"
     ]
    }
   ],
   "source": [
    "#Pearson R\n",
    "x=np.array([12,11,13,14,12,15,12,16,10,11])\n",
    "y=np.array([280,290,220,260,270,240,250,230,280,260])\n",
    "top=sum((x-meanx)*(y-meany))\n",
    "bottom=np.sqrt(sum((x-meanx)**2)*sum((y-meany)**2))\n",
    "PearsonR=top/bottom\n",
    "PearsonR=round(PearsonR,2)\n",
    "print('The value for Pearson R correlation between 100m and 1500m is:',PearsonR)\n"
   ]
  },
  {
   "cell_type": "markdown",
   "metadata": {},
   "source": [
    "The value for Pearson R, -0.69, shows a strong indirect relationship between 100m times and 1500m times for this data set.\n",
    "Through using a Pearson R table , the data can be tested to see if its significant. Our data sits at -0.69 which suggests there is a negative relationship between the two data sets. Using a table[2] the relationship for N=10 requires a Pearson R of 0.576 to be 0.05 signficant. As the data set sits at -0.69, it can be deemed that the significance is better than 0.05 and we can reject our null hypothesis. \n",
    "\n",
    "\n",
    "[2]Statistics Solutions. (2019). Table of Critical Values: Pearson Correlation - Statistics Solutions. [online] Available at: https://www.statisticssolutions.com/table-of-critical-values-pearson-correlation/ [Accessed 31 Oct. 2019]."
   ]
  },
  {
   "cell_type": "code",
   "execution_count": 13,
   "metadata": {},
   "outputs": [],
   "source": [
    "x=np.array([12,11,13,14,12,15,12,16,10,11])\n",
    "y=np.array([280,290,220,260,270,240,250,230,280,260])\n",
    "\n",
    "def Ken(x,y):\n",
    "    ranked_x=rankdata(x)\n",
    "    ranked_y=rankdata(y)#ranking each data set\n",
    "    con=0\n",
    "    dis=0\n",
    "    tie=0# assinging each possibility to 0 to then fill when looped\n",
    "    for i,(x,y) in enumerate(zip(ranked_x,ranked_y)):#enumerate function \n",
    "        is_pair_conant=get_conance(x,ranked_x[i-1],y,ranked_y[i-1])\n",
    "        if is_pair_conant:\n",
    "        \n",
    "            con+=1\n",
    "        elif not is_pair_conant:\n",
    "            dis+=1\n",
    "        else:\n",
    "            con+=is_pair_conant/2\n",
    "            dis+=is_pair_conant/2\n",
    "        \n",
    "    return((con-dis)/(con+dis))"
   ]
  },
  {
   "cell_type": "markdown",
   "metadata": {},
   "source": [
    "The above code loops through each ranked pair and finds if they are concordand or disconcordant.\n",
    "This is then summarised in the table bellow.\n",
    "\n",
    "|Concordant|Disconcordant|\n",
    "|------|------|\n",
    "|1    |1      |\n",
    "|1    |2      |\n",
    "|1    |2      |\n",
    "|2    |2      |\n",
    "|2    |3      |\n",
    "|2    |4      |\n",
    "|2    |5      |\n",
    "|2    |6      |\n",
    "|2    |7      |\n",
    "|2    |8      |"
   ]
  },
  {
   "cell_type": "code",
   "execution_count": 14,
   "metadata": {},
   "outputs": [
    {
     "name": "stdout",
     "output_type": "stream",
     "text": [
      "The value for Kendall correlation between 100m and 1500m is: -0.6\n"
     ]
    }
   ],
   "source": [
    "def get_conance(x1,x2,y1,y2):\n",
    "    try:\n",
    "        value=(y2-y1)/(x2-x1)\n",
    "        if value >0:\n",
    "            return True\n",
    "        elif value <0:\n",
    "            return False\n",
    "        else:\n",
    "            return 1\n",
    "    except ZeroDivisionError:\n",
    "        return 0\n",
    "kendall=Ken(x,y)\n",
    "print('The value for Kendall correlation between 100m and 1500m is:',kendall)"
   ]
  },
  {
   "cell_type": "markdown",
   "metadata": {},
   "source": [
    "The value for Kendall, -0.60, shows a  indirect relationship between 100m times and 1500m times for this data set.\n",
    "Through using a Kendall table , the data can be tested to see if its significant. Our data sits at -0.60 which suggests there is a negative relationship between the two data sets. Using a table[3] the relationship for N=10 requires a Kendall of 0.60 to be 0.01 signficant. As the data set sits at -0.60, it can be deemed that the significance is better than 0.05 and we can reject our null hypothesis. \n",
    "\n",
    "[3]York.ac.uk. (2019). [online] Available at: https://www.york.ac.uk/depts/maths/tables/kendall.pdf [Accessed 31 Oct. 2019]."
   ]
  },
  {
   "cell_type": "markdown",
   "metadata": {},
   "source": [
    "Firstly the data set is plotted to visualise the relationship between the athletes times of running 100m and 1500m, with the x axis representing 100m and y, 1500m. From visualising the data set, it appears that the data set shows a **negative relationship** between the athletes times for 100m and 1500m.This was show by finding the equation of the straight line for the two data sets. An equation of $y=-8.58x +366.1$ was calculated, showing a negative gradient. This suggested that quicker 100m runners were slower 1500m runners and slower 100m runners were quicker 1500m runners.\n",
    "\n",
    "After this, the mean values of each time were calculated, these values are **12.60 seconds for 100m** and **258.00 seconds for 1500m.** The mean of 100m and 1500m show the average times of the two races. The standard deviation of 100m and 1500m show how the average deviation/spread of results from the mean. The values of standard deviation are $\\sigma_{100m} = 2.33$ and $\\sigma_{1500m}=21.82$. These values are within the two means so show a relationship between the two data sets. To find this relationship, the correlations are found. \n",
    "\n",
    "To confirm the relationship between the two data sets the **Pearsons correlation** is calculated, this values is calculated to be **-0.69** which indicates a **Strong Indirect Relationship**.\n",
    "A more robust method is to use a the **Spearmans Rank**, this technique can be used as the data set contains a small sample size as well as after plotting, it is shown that the data set is **monotomic** as when x increases, y decreases. A value for **Spearmans Rank** shows a value of **-0.74**. Again showing a **Strong Indirect Relationship**. \n",
    "A final way is to test the data was **Kendalls**. Using Kendalls a correlation of -0.60 was found. This is the weakest out of the 3 methods.\n",
    "\n",
    "\n",
    "Using the methods for correlation we get:\n",
    "\n",
    "| Method|Correlation|Significance|Null Hypothesis|\n",
    "|------|------|------|------|\n",
    "|Pearsons|-0.71|0.05|Reject|\n",
    "|Spearmans|-0.74|0.05|Reject|\n",
    "|Kendalls|-0.60|0.01|Reject|\n",
    "\n",
    "To conclude, after finding the negative gradient from the straight line fit and reviewing 3 methods of correlation, the data shows a strong indirect relationship between the two variables. These correlation methos were tested to a probability of significance of <0.05, so it can be stated that people who run 100m faster will run 1500m slower. "
   ]
  }
 ],
 "metadata": {
  "kernelspec": {
   "display_name": "Python 3",
   "language": "python",
   "name": "python3"
  },
  "language_info": {
   "codemirror_mode": {
    "name": "ipython",
    "version": 3
   },
   "file_extension": ".py",
   "mimetype": "text/x-python",
   "name": "python",
   "nbconvert_exporter": "python",
   "pygments_lexer": "ipython3",
   "version": "3.7.3"
  }
 },
 "nbformat": 4,
 "nbformat_minor": 2
}
